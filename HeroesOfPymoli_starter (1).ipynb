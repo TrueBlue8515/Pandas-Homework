{
 "cells": [
  {
   "cell_type": "markdown",
   "metadata": {},
   "source": [
    "### Heroes Of Pymoli Data Analysis\n",
    "* Of the 1163 active players, the vast majority are male (84%). There also exists, a smaller, but notable proportion of female players (14%).\n",
    "\n",
    "* Our peak age demographic falls between 20-24 (44.8%) with secondary groups falling between 15-19 (18.60%) and 25-29 (13.4%).  \n",
    "-----"
   ]
  },
  {
   "cell_type": "markdown",
   "metadata": {},
   "source": [
    "### Note\n",
    "* Instructions have been included for each segment. You do not have to follow them exactly, but they are included to help you think through the steps."
   ]
  },
  {
   "cell_type": "code",
   "execution_count": 2,
   "metadata": {},
   "outputs": [],
   "source": [
    "# Dependencies and Setup\n",
    "import pandas as pd\n",
    "import numpy as np\n",
    "\n",
    "# File to Load (Remember to Change These)\n",
    "file_to_load = \"Resources/purchase_data.csv\"\n",
    "\n",
    "# Read Purchasing File and store into Pandas data frame\n",
    "purchase_data = pd.read_csv(file_to_load)\n",
    "#purchase_data.head()"
   ]
  },
  {
   "cell_type": "markdown",
   "metadata": {},
   "source": [
    "## Player Count"
   ]
  },
  {
   "cell_type": "markdown",
   "metadata": {},
   "source": [
    "* Display the total number of players\n"
   ]
  },
  {
   "cell_type": "code",
   "execution_count": 3,
   "metadata": {},
   "outputs": [
    {
     "name": "stdout",
     "output_type": "stream",
     "text": [
      "Total Number of Players:  576\n"
     ]
    }
   ],
   "source": [
    "# Determine total number of players\n",
    "player_count_df = len(purchase_data[\"SN\"].unique())\n",
    "#display\n",
    "print (\"Total Number of Players: \", player_count_df)"
   ]
  },
  {
   "cell_type": "markdown",
   "metadata": {},
   "source": [
    "## Purchasing Analysis (Total)"
   ]
  },
  {
   "cell_type": "markdown",
   "metadata": {},
   "source": [
    "* Run basic calculations to obtain number of unique items, average price, etc.\n",
    "\n",
    "\n",
    "* Create a summary data frame to hold the results\n",
    "\n",
    "\n",
    "* Optional: give the displayed data cleaner formatting\n",
    "\n",
    "\n",
    "* Display the summary data frame\n"
   ]
  },
  {
   "cell_type": "code",
   "execution_count": 4,
   "metadata": {
    "scrolled": true
   },
   "outputs": [
    {
     "data": {
      "text/html": [
       "<div>\n",
       "<style scoped>\n",
       "    .dataframe tbody tr th:only-of-type {\n",
       "        vertical-align: middle;\n",
       "    }\n",
       "\n",
       "    .dataframe tbody tr th {\n",
       "        vertical-align: top;\n",
       "    }\n",
       "\n",
       "    .dataframe thead th {\n",
       "        text-align: right;\n",
       "    }\n",
       "</style>\n",
       "<table border=\"1\" class=\"dataframe\">\n",
       "  <thead>\n",
       "    <tr style=\"text-align: right;\">\n",
       "      <th></th>\n",
       "      <th>Number of Unique Items</th>\n",
       "      <th>Average Price</th>\n",
       "      <th>Number of Purchase</th>\n",
       "      <th>Total Revenue</th>\n",
       "    </tr>\n",
       "  </thead>\n",
       "  <tbody>\n",
       "    <tr>\n",
       "      <th>0</th>\n",
       "      <td>183</td>\n",
       "      <td>$3.05</td>\n",
       "      <td>780</td>\n",
       "      <td>$2,379.77</td>\n",
       "    </tr>\n",
       "  </tbody>\n",
       "</table>\n",
       "</div>"
      ],
      "text/plain": [
       "   Number of Unique Items Average Price  Number of Purchase Total Revenue\n",
       "0                     183         $3.05                 780     $2,379.77"
      ]
     },
     "execution_count": 4,
     "metadata": {},
     "output_type": "execute_result"
    }
   ],
   "source": [
    "#Basic calculation to obtain unique items\n",
    "unique_items = len(purchase_data[\"Item ID\"].unique())\n",
    "#Basic calculation to obtain Average Price\n",
    "average_price = purchase_data[\"Price\"].mean()\n",
    "#Basic calculation to obtain Number of Purchases\n",
    "number_purchases = len(purchase_data[\"Purchase ID\"].unique())\n",
    "#Basic calculation to obtain Total Revenue\n",
    "total_revenue = purchase_data[\"Price\"].sum()\n",
    "\n",
    "#Create summary table to hold results\n",
    "summary_table = pd.DataFrame({\"Number of Unique Items\": unique_items,\n",
    "                             \"Average Price\": [average_price],\n",
    "                             \"Number of Purchase\": number_purchases,\n",
    "                             \"Total Revenue\": [total_revenue]})\n",
    "#Optional formatting\n",
    "summary_table['Average Price'] = (summary_table['Average Price']).map(\"${:,.2f}\".format)\n",
    "summary_table['Total Revenue'] = (summary_table['Total Revenue']).map(\"${:,.2f}\".format)\n",
    "\n",
    "#Display\n",
    "summary_table"
   ]
  },
  {
   "cell_type": "markdown",
   "metadata": {},
   "source": [
    "## Gender Demographics"
   ]
  },
  {
   "cell_type": "markdown",
   "metadata": {},
   "source": [
    "* Percentage and Count of Male Players\n",
    "\n",
    "\n",
    "* Percentage and Count of Female Players\n",
    "\n",
    "\n",
    "* Percentage and Count of Other / Non-Disclosed\n",
    "\n",
    "\n"
   ]
  },
  {
   "cell_type": "code",
   "execution_count": 5,
   "metadata": {},
   "outputs": [
    {
     "data": {
      "text/html": [
       "<div>\n",
       "<style scoped>\n",
       "    .dataframe tbody tr th:only-of-type {\n",
       "        vertical-align: middle;\n",
       "    }\n",
       "\n",
       "    .dataframe tbody tr th {\n",
       "        vertical-align: top;\n",
       "    }\n",
       "\n",
       "    .dataframe thead th {\n",
       "        text-align: right;\n",
       "    }\n",
       "</style>\n",
       "<table border=\"1\" class=\"dataframe\">\n",
       "  <thead>\n",
       "    <tr style=\"text-align: right;\">\n",
       "      <th></th>\n",
       "      <th>Total Count</th>\n",
       "      <th>Percentage of Players</th>\n",
       "    </tr>\n",
       "  </thead>\n",
       "  <tbody>\n",
       "    <tr>\n",
       "      <th>0</th>\n",
       "      <td>484</td>\n",
       "      <td>84.03%</td>\n",
       "    </tr>\n",
       "    <tr>\n",
       "      <th>1</th>\n",
       "      <td>81</td>\n",
       "      <td>14.06%</td>\n",
       "    </tr>\n",
       "    <tr>\n",
       "      <th>2</th>\n",
       "      <td>11</td>\n",
       "      <td>1.91%</td>\n",
       "    </tr>\n",
       "  </tbody>\n",
       "</table>\n",
       "</div>"
      ],
      "text/plain": [
       "   Total Count Percentage of Players\n",
       "0          484                84.03%\n",
       "1           81                14.06%\n",
       "2           11                 1.91%"
      ]
     },
     "execution_count": 5,
     "metadata": {},
     "output_type": "execute_result"
    }
   ],
   "source": [
    "#Count of Male, Female, and Non-Disclosed\n",
    "gender_count_df1 = purchase_data.loc[purchase_data[\"Gender\"] == \"Male\", :]\n",
    "gender_count_df2 = purchase_data.loc[purchase_data[\"Gender\"] == \"Female\", :]\n",
    "gender_count_df3 = purchase_data.loc[purchase_data[\"Gender\"] == \"Other / Non-Disclosed\", :]\n",
    "\n",
    "male = len(gender_count_df1[\"SN\"].unique())\n",
    "female = len(gender_count_df2[\"SN\"].unique())\n",
    "other = len(gender_count_df3[\"SN\"].unique())\n",
    "\n",
    "total = male + female + other\n",
    "\n",
    "#Percentage of Male, Female, and Other/Non-Disclosed\n",
    "percentage_male = male / total * 100\n",
    "percentage_female = female / total * 100\n",
    "percentage_other = other / total * 100\n",
    "\n",
    "#Create summary table to hold results\n",
    "summary_table = pd.DataFrame({\"Total Count\": (male, female, other),\n",
    "                             \"Percentage of Players\": (percentage_male, percentage_female, percentage_other)})\n",
    "#Formatting\n",
    "summary_table['Percentage of Players'] = (summary_table['Percentage of Players']).map(\"{:,.2f}%\".format)\n",
    "\n",
    "#Display\n",
    "summary_table"
   ]
  },
  {
   "cell_type": "markdown",
   "metadata": {},
   "source": [
    "\n",
    "## Purchasing Analysis (Gender)"
   ]
  },
  {
   "cell_type": "markdown",
   "metadata": {},
   "source": [
    "* Run basic calculations to obtain purchase count, avg. purchase price, avg. purchase total per person etc. by gender\n",
    "\n",
    "\n",
    "\n",
    "\n",
    "* Create a summary data frame to hold the results\n",
    "\n",
    "\n",
    "* Optional: give the displayed data cleaner formatting\n",
    "\n",
    "\n",
    "* Display the summary data frame"
   ]
  },
  {
   "cell_type": "code",
   "execution_count": 15,
   "metadata": {},
   "outputs": [
    {
     "data": {
      "text/html": [
       "<div>\n",
       "<style scoped>\n",
       "    .dataframe tbody tr th:only-of-type {\n",
       "        vertical-align: middle;\n",
       "    }\n",
       "\n",
       "    .dataframe tbody tr th {\n",
       "        vertical-align: top;\n",
       "    }\n",
       "\n",
       "    .dataframe thead th {\n",
       "        text-align: right;\n",
       "    }\n",
       "</style>\n",
       "<table border=\"1\" class=\"dataframe\">\n",
       "  <thead>\n",
       "    <tr style=\"text-align: right;\">\n",
       "      <th></th>\n",
       "      <th>Gender</th>\n",
       "      <th>Purchase Count</th>\n",
       "      <th>Average Purchase Price</th>\n",
       "      <th>Total Purchase Value</th>\n",
       "      <th>Avg Total Purchase per Person</th>\n",
       "    </tr>\n",
       "  </thead>\n",
       "  <tbody>\n",
       "    <tr>\n",
       "      <th>0</th>\n",
       "      <td>Male</td>\n",
       "      <td>652</td>\n",
       "      <td>$3.02</td>\n",
       "      <td>$1,967.64</td>\n",
       "      <td>$4.07</td>\n",
       "    </tr>\n",
       "    <tr>\n",
       "      <th>1</th>\n",
       "      <td>Female</td>\n",
       "      <td>113</td>\n",
       "      <td>$3.20</td>\n",
       "      <td>$361.94</td>\n",
       "      <td>$4.47</td>\n",
       "    </tr>\n",
       "    <tr>\n",
       "      <th>2</th>\n",
       "      <td>Other / Non-Disclosed</td>\n",
       "      <td>15</td>\n",
       "      <td>$3.35</td>\n",
       "      <td>$50.19</td>\n",
       "      <td>$4.56</td>\n",
       "    </tr>\n",
       "  </tbody>\n",
       "</table>\n",
       "</div>"
      ],
      "text/plain": [
       "                  Gender  Purchase Count Average Purchase Price  \\\n",
       "0                   Male             652                  $3.02   \n",
       "1                 Female             113                  $3.20   \n",
       "2  Other / Non-Disclosed              15                  $3.35   \n",
       "\n",
       "  Total Purchase Value Avg Total Purchase per Person  \n",
       "0            $1,967.64                         $4.07  \n",
       "1              $361.94                         $4.47  \n",
       "2               $50.19                         $4.56  "
      ]
     },
     "execution_count": 15,
     "metadata": {},
     "output_type": "execute_result"
    }
   ],
   "source": [
    "#Count of Male, Female, and Non-Disclosed\n",
    "gender_count_df1 = purchase_data.loc[purchase_data[\"Gender\"] == \"Male\", :]\n",
    "gender_count_df2 = purchase_data.loc[purchase_data[\"Gender\"] == \"Female\", :]\n",
    "gender_count_df3 = purchase_data.loc[purchase_data[\"Gender\"] == \"Other / Non-Disclosed\", :]\n",
    "\n",
    "#Basic calculation to determine purchase count by gender\n",
    "purchase_count1 = len(gender_count_df1[\"Purchase ID\"].unique())\n",
    "purchase_count2 = len(gender_count_df2[\"Purchase ID\"].unique())\n",
    "purchase_count3 = len(gender_count_df3[\"Purchase ID\"].unique())\n",
    "\n",
    "purchase_counts = [purchase_count1, purchase_count2, purchase_count3]\n",
    "\n",
    "#Basic calculation to determine average purchase price by gender\n",
    "avg_price_M = gender_count_df1[\"Price\"].mean()\n",
    "avg_price_F = gender_count_df2[\"Price\"].mean()\n",
    "avg_price_O = gender_count_df3[\"Price\"].mean()\n",
    "\n",
    "avg_prices = [avg_price_M, avg_price_F, avg_price_O]\n",
    "\n",
    "#Basic calculation to determine Total Purchase Value by gender\n",
    "tot_val_M = gender_count_df1[\"Price\"].sum()\n",
    "tot_val_F = gender_count_df2[\"Price\"].sum()\n",
    "tot_val_O = gender_count_df3[\"Price\"].sum()\n",
    "               \n",
    "tot_values = [tot_val_M, tot_val_F, tot_val_O]\n",
    "\n",
    "#Basic calculation to determine Average Total Purchase per Person\n",
    "tot_price_M = tot_val_M / male\n",
    "tot_price_F = tot_val_F / female\n",
    "tot_price_O = tot_val_O / other\n",
    "               \n",
    "tot_prices = [tot_price_M, tot_price_F, tot_price_O]\n",
    "\n",
    "\n",
    "#Create summary table to hold results\n",
    "summary_table2 = pd.DataFrame({\"Gender\":(\"Male\", \"Female\", \"Other / Non-Disclosed\"),\n",
    "                               \"Purchase Count\":purchase_counts,\n",
    "                               \"Average Purchase Price\":avg_prices,\n",
    "                               \"Total Purchase Value\":tot_values,\n",
    "                               \"Avg Total Purchase per Person\":tot_prices})\n",
    "\n",
    "#Optional Formatting\n",
    "summary_table2['Average Purchase Price'] = (summary_table2['Average Purchase Price']).map(\"${:,.2f}\".format)\n",
    "summary_table2['Total Purchase Value'] = (summary_table2['Total Purchase Value']).map(\"${:,.2f}\".format)\n",
    "summary_table2['Avg Total Purchase per Person'] = (summary_table2['Avg Total Purchase per Person']).map(\"${:,.2f}\".format)\n",
    "\n",
    "#Display\n",
    "summary_table2"
   ]
  },
  {
   "cell_type": "markdown",
   "metadata": {},
   "source": [
    "## Age Demographics"
   ]
  },
  {
   "cell_type": "markdown",
   "metadata": {},
   "source": [
    "* Establish bins for ages\n",
    "\n",
    "\n",
    "* Categorize the existing players using the age bins. Hint: use pd.cut()\n",
    "\n",
    "\n",
    "* Calculate the numbers and percentages by age group\n",
    "\n",
    "\n",
    "* Create a summary data frame to hold the results\n",
    "\n",
    "\n",
    "* Optional: round the percentage column to two decimal points\n",
    "\n",
    "\n",
    "* Display Age Demographics Table\n"
   ]
  },
  {
   "cell_type": "code",
   "execution_count": 7,
   "metadata": {},
   "outputs": [
    {
     "data": {
      "text/html": [
       "<style  type=\"text/css\" >\n",
       "</style>  \n",
       "<table id=\"T_e5c3c452_cf5e_11e8_8a87_9822efbf627a\" > \n",
       "<thead>    <tr> \n",
       "        <th class=\"blank level0\" ></th> \n",
       "        <th class=\"col_heading level0 col0\" >Total Count</th> \n",
       "        <th class=\"col_heading level0 col1\" >Percentage of Players</th> \n",
       "    </tr>    <tr> \n",
       "        <th class=\"index_name level0\" >Age</th> \n",
       "        <th class=\"blank\" ></th> \n",
       "        <th class=\"blank\" ></th> \n",
       "    </tr></thead> \n",
       "<tbody>    <tr> \n",
       "        <th id=\"T_e5c3c452_cf5e_11e8_8a87_9822efbf627alevel0_row0\" class=\"row_heading level0 row0\" ><10</th> \n",
       "        <td id=\"T_e5c3c452_cf5e_11e8_8a87_9822efbf627arow0_col0\" class=\"data row0 col0\" >17</td> \n",
       "        <td id=\"T_e5c3c452_cf5e_11e8_8a87_9822efbf627arow0_col1\" class=\"data row0 col1\" >2.95%</td> \n",
       "    </tr>    <tr> \n",
       "        <th id=\"T_e5c3c452_cf5e_11e8_8a87_9822efbf627alevel0_row1\" class=\"row_heading level0 row1\" >10-14</th> \n",
       "        <td id=\"T_e5c3c452_cf5e_11e8_8a87_9822efbf627arow1_col0\" class=\"data row1 col0\" >22</td> \n",
       "        <td id=\"T_e5c3c452_cf5e_11e8_8a87_9822efbf627arow1_col1\" class=\"data row1 col1\" >3.82%</td> \n",
       "    </tr>    <tr> \n",
       "        <th id=\"T_e5c3c452_cf5e_11e8_8a87_9822efbf627alevel0_row2\" class=\"row_heading level0 row2\" >15-19</th> \n",
       "        <td id=\"T_e5c3c452_cf5e_11e8_8a87_9822efbf627arow2_col0\" class=\"data row2 col0\" >107</td> \n",
       "        <td id=\"T_e5c3c452_cf5e_11e8_8a87_9822efbf627arow2_col1\" class=\"data row2 col1\" >18.58%</td> \n",
       "    </tr>    <tr> \n",
       "        <th id=\"T_e5c3c452_cf5e_11e8_8a87_9822efbf627alevel0_row3\" class=\"row_heading level0 row3\" >20-24</th> \n",
       "        <td id=\"T_e5c3c452_cf5e_11e8_8a87_9822efbf627arow3_col0\" class=\"data row3 col0\" >258</td> \n",
       "        <td id=\"T_e5c3c452_cf5e_11e8_8a87_9822efbf627arow3_col1\" class=\"data row3 col1\" >44.79%</td> \n",
       "    </tr>    <tr> \n",
       "        <th id=\"T_e5c3c452_cf5e_11e8_8a87_9822efbf627alevel0_row4\" class=\"row_heading level0 row4\" >25-29</th> \n",
       "        <td id=\"T_e5c3c452_cf5e_11e8_8a87_9822efbf627arow4_col0\" class=\"data row4 col0\" >77</td> \n",
       "        <td id=\"T_e5c3c452_cf5e_11e8_8a87_9822efbf627arow4_col1\" class=\"data row4 col1\" >13.37%</td> \n",
       "    </tr>    <tr> \n",
       "        <th id=\"T_e5c3c452_cf5e_11e8_8a87_9822efbf627alevel0_row5\" class=\"row_heading level0 row5\" >30-34</th> \n",
       "        <td id=\"T_e5c3c452_cf5e_11e8_8a87_9822efbf627arow5_col0\" class=\"data row5 col0\" >52</td> \n",
       "        <td id=\"T_e5c3c452_cf5e_11e8_8a87_9822efbf627arow5_col1\" class=\"data row5 col1\" >9.03%</td> \n",
       "    </tr>    <tr> \n",
       "        <th id=\"T_e5c3c452_cf5e_11e8_8a87_9822efbf627alevel0_row6\" class=\"row_heading level0 row6\" >35-39</th> \n",
       "        <td id=\"T_e5c3c452_cf5e_11e8_8a87_9822efbf627arow6_col0\" class=\"data row6 col0\" >31</td> \n",
       "        <td id=\"T_e5c3c452_cf5e_11e8_8a87_9822efbf627arow6_col1\" class=\"data row6 col1\" >5.38%</td> \n",
       "    </tr>    <tr> \n",
       "        <th id=\"T_e5c3c452_cf5e_11e8_8a87_9822efbf627alevel0_row7\" class=\"row_heading level0 row7\" >40 +</th> \n",
       "        <td id=\"T_e5c3c452_cf5e_11e8_8a87_9822efbf627arow7_col0\" class=\"data row7 col0\" >12</td> \n",
       "        <td id=\"T_e5c3c452_cf5e_11e8_8a87_9822efbf627arow7_col1\" class=\"data row7 col1\" >2.08%</td> \n",
       "    </tr></tbody> \n",
       "</table> "
      ],
      "text/plain": [
       "<pandas.io.formats.style.Styler at 0x2cf0fdb2f98>"
      ]
     },
     "execution_count": 7,
     "metadata": {},
     "output_type": "execute_result"
    }
   ],
   "source": [
    "#Bin purchase data frame by age\n",
    "purchase_data.loc[(purchase_data['Age'] < 10), 'age_bin'] = \"< 10\"\n",
    "purchase_data.loc[(purchase_data['Age'] >= 10) & (purchase_data['Age'] <= 14), 'age_bin'] = \"10 - 14\"\n",
    "purchase_data.loc[(purchase_data['Age'] >= 15) & (purchase_data['Age'] <= 19), 'age_bin'] = \"15 - 19\"\n",
    "purchase_data.loc[(purchase_data['Age'] >= 20) & (purchase_data['Age'] <= 24), 'age_bin'] = \"20 - 24\"\n",
    "purchase_data.loc[(purchase_data['Age'] >= 25) & (purchase_data['Age'] <= 29), 'age_bin'] = \"25 - 29\"\n",
    "purchase_data.loc[(purchase_data['Age'] >= 30) & (purchase_data['Age'] <= 34), 'age_bin'] = \"30 - 34\"\n",
    "purchase_data.loc[(purchase_data['Age'] >= 35) & (purchase_data['Age'] <= 39), 'age_bin'] = \"35 - 39\"\n",
    "purchase_data.loc[(purchase_data['Age'] >= 40), 'age_bin'] = \"40 +\"\n",
    "\n",
    "#Create dataframe of unique players in each age group, find percentage against full count of players\n",
    "\n",
    "yearsA = purchase_data[purchase_data[\"Age\"] <10]\n",
    "yearsB = purchase_data[(purchase_data[\"Age\"] >=10) & (purchase_data[\"Age\"] <=14)]\n",
    "yearsC = purchase_data[(purchase_data[\"Age\"] >=15) & (purchase_data[\"Age\"] <=19)]\n",
    "yearsD = purchase_data[(purchase_data[\"Age\"] >=20) & (purchase_data[\"Age\"] <=24)]\n",
    "yearsE = purchase_data[(purchase_data[\"Age\"] >=25) & (purchase_data[\"Age\"] <=29)]\n",
    "yearsF = purchase_data[(purchase_data[\"Age\"] >=30) & (purchase_data[\"Age\"] <=34)]\n",
    "yearsG = purchase_data[(purchase_data[\"Age\"] >=35) & (purchase_data[\"Age\"] <=39)]\n",
    "yearsH = purchase_data[(purchase_data[\"Age\"] >=40) & (purchase_data[\"Age\"] <=99)]\n",
    "\n",
    "#Create summary table and calculate Numbers and Percentages by Age Group\n",
    "age_demo_df = pd.DataFrame({\"Age\": [\"<10\", \"10-14\", \"15-19\", \"20-24\", \"25-29\", \"30-34\", \"35-39\", \"40 +\"],\n",
    "                            \"Total Count\": [yearsA[\"SN\"].nunique(), yearsB[\"SN\"].nunique(), yearsC[\"SN\"].nunique(), yearsD[\"SN\"].nunique(), yearsE[\"SN\"].nunique(), yearsF[\"SN\"].nunique(), yearsG[\"SN\"].nunique(), yearsH[\"SN\"].nunique()],\n",
    "                            \"Percentage of Players\": [(yearsA[\"SN\"].nunique()/total)*100, (yearsB[\"SN\"].nunique()/total)*100, (yearsC[\"SN\"].nunique()/total)*100, (yearsD[\"SN\"].nunique()/total)*100, (yearsE[\"SN\"].nunique()/total)*100, (yearsF[\"SN\"].nunique()/total)*100, (yearsG[\"SN\"].nunique()/total)*100, (yearsH[\"SN\"].nunique()/total)*100]\n",
    "                           })\n",
    "#Reset Index to Age\n",
    "age_demo_final = age_demo_df.set_index(\"Age\")\n",
    "\n",
    "#Formatting\n",
    "age_demo_final.style.format({\"Percentage of Players\": \"{:.2f}%\"})\n",
    "\n"
   ]
  },
  {
   "cell_type": "markdown",
   "metadata": {},
   "source": [
    "## Purchasing Analysis (Age)"
   ]
  },
  {
   "cell_type": "markdown",
   "metadata": {},
   "source": [
    "* Bin the purchase_data data frame by age\n",
    "\n",
    "\n",
    "* Run basic calculations to obtain purchase count, avg. purchase price, avg. purchase total per person etc. in the table below\n",
    "\n",
    "\n",
    "* Create a summary data frame to hold the results\n",
    "\n",
    "\n",
    "* Optional: give the displayed data cleaner formatting\n",
    "\n",
    "\n",
    "* Display the summary data frame"
   ]
  },
  {
   "cell_type": "code",
   "execution_count": 8,
   "metadata": {},
   "outputs": [
    {
     "data": {
      "text/html": [
       "<style  type=\"text/css\" >\n",
       "</style>  \n",
       "<table id=\"T_eaacdbcc_cf5e_11e8_ae24_9822efbf627a\" > \n",
       "<thead>    <tr> \n",
       "        <th class=\"blank level0\" ></th> \n",
       "        <th class=\"col_heading level0 col0\" ># of Purchases</th> \n",
       "        <th class=\"col_heading level0 col1\" >Average Purchase Price</th> \n",
       "        <th class=\"col_heading level0 col2\" >Total Purchase Value</th> \n",
       "        <th class=\"col_heading level0 col3\" ># of Purchasers</th> \n",
       "        <th class=\"col_heading level0 col4\" >Average Purchase Total per Person by Age Group</th> \n",
       "    </tr>    <tr> \n",
       "        <th class=\"index_name level0\" >Age</th> \n",
       "        <th class=\"blank\" ></th> \n",
       "        <th class=\"blank\" ></th> \n",
       "        <th class=\"blank\" ></th> \n",
       "        <th class=\"blank\" ></th> \n",
       "        <th class=\"blank\" ></th> \n",
       "    </tr></thead> \n",
       "<tbody>    <tr> \n",
       "        <th id=\"T_eaacdbcc_cf5e_11e8_ae24_9822efbf627alevel0_row0\" class=\"row_heading level0 row0\" >10 - 14</th> \n",
       "        <td id=\"T_eaacdbcc_cf5e_11e8_ae24_9822efbf627arow0_col0\" class=\"data row0 col0\" >28</td> \n",
       "        <td id=\"T_eaacdbcc_cf5e_11e8_ae24_9822efbf627arow0_col1\" class=\"data row0 col1\" >$2.96</td> \n",
       "        <td id=\"T_eaacdbcc_cf5e_11e8_ae24_9822efbf627arow0_col2\" class=\"data row0 col2\" >$82.78</td> \n",
       "        <td id=\"T_eaacdbcc_cf5e_11e8_ae24_9822efbf627arow0_col3\" class=\"data row0 col3\" >22</td> \n",
       "        <td id=\"T_eaacdbcc_cf5e_11e8_ae24_9822efbf627arow0_col4\" class=\"data row0 col4\" >$3.76</td> \n",
       "    </tr>    <tr> \n",
       "        <th id=\"T_eaacdbcc_cf5e_11e8_ae24_9822efbf627alevel0_row1\" class=\"row_heading level0 row1\" >15 - 19</th> \n",
       "        <td id=\"T_eaacdbcc_cf5e_11e8_ae24_9822efbf627arow1_col0\" class=\"data row1 col0\" >136</td> \n",
       "        <td id=\"T_eaacdbcc_cf5e_11e8_ae24_9822efbf627arow1_col1\" class=\"data row1 col1\" >$3.04</td> \n",
       "        <td id=\"T_eaacdbcc_cf5e_11e8_ae24_9822efbf627arow1_col2\" class=\"data row1 col2\" >$412.89</td> \n",
       "        <td id=\"T_eaacdbcc_cf5e_11e8_ae24_9822efbf627arow1_col3\" class=\"data row1 col3\" >107</td> \n",
       "        <td id=\"T_eaacdbcc_cf5e_11e8_ae24_9822efbf627arow1_col4\" class=\"data row1 col4\" >$3.86</td> \n",
       "    </tr>    <tr> \n",
       "        <th id=\"T_eaacdbcc_cf5e_11e8_ae24_9822efbf627alevel0_row2\" class=\"row_heading level0 row2\" >20 - 24</th> \n",
       "        <td id=\"T_eaacdbcc_cf5e_11e8_ae24_9822efbf627arow2_col0\" class=\"data row2 col0\" >365</td> \n",
       "        <td id=\"T_eaacdbcc_cf5e_11e8_ae24_9822efbf627arow2_col1\" class=\"data row2 col1\" >$3.05</td> \n",
       "        <td id=\"T_eaacdbcc_cf5e_11e8_ae24_9822efbf627arow2_col2\" class=\"data row2 col2\" >$1114.06</td> \n",
       "        <td id=\"T_eaacdbcc_cf5e_11e8_ae24_9822efbf627arow2_col3\" class=\"data row2 col3\" >258</td> \n",
       "        <td id=\"T_eaacdbcc_cf5e_11e8_ae24_9822efbf627arow2_col4\" class=\"data row2 col4\" >$4.32</td> \n",
       "    </tr>    <tr> \n",
       "        <th id=\"T_eaacdbcc_cf5e_11e8_ae24_9822efbf627alevel0_row3\" class=\"row_heading level0 row3\" >25 - 29</th> \n",
       "        <td id=\"T_eaacdbcc_cf5e_11e8_ae24_9822efbf627arow3_col0\" class=\"data row3 col0\" >101</td> \n",
       "        <td id=\"T_eaacdbcc_cf5e_11e8_ae24_9822efbf627arow3_col1\" class=\"data row3 col1\" >$2.90</td> \n",
       "        <td id=\"T_eaacdbcc_cf5e_11e8_ae24_9822efbf627arow3_col2\" class=\"data row3 col2\" >$293.00</td> \n",
       "        <td id=\"T_eaacdbcc_cf5e_11e8_ae24_9822efbf627arow3_col3\" class=\"data row3 col3\" >77</td> \n",
       "        <td id=\"T_eaacdbcc_cf5e_11e8_ae24_9822efbf627arow3_col4\" class=\"data row3 col4\" >$3.81</td> \n",
       "    </tr>    <tr> \n",
       "        <th id=\"T_eaacdbcc_cf5e_11e8_ae24_9822efbf627alevel0_row4\" class=\"row_heading level0 row4\" >30 - 34</th> \n",
       "        <td id=\"T_eaacdbcc_cf5e_11e8_ae24_9822efbf627arow4_col0\" class=\"data row4 col0\" >73</td> \n",
       "        <td id=\"T_eaacdbcc_cf5e_11e8_ae24_9822efbf627arow4_col1\" class=\"data row4 col1\" >$2.93</td> \n",
       "        <td id=\"T_eaacdbcc_cf5e_11e8_ae24_9822efbf627arow4_col2\" class=\"data row4 col2\" >$214.00</td> \n",
       "        <td id=\"T_eaacdbcc_cf5e_11e8_ae24_9822efbf627arow4_col3\" class=\"data row4 col3\" >52</td> \n",
       "        <td id=\"T_eaacdbcc_cf5e_11e8_ae24_9822efbf627arow4_col4\" class=\"data row4 col4\" >$4.12</td> \n",
       "    </tr>    <tr> \n",
       "        <th id=\"T_eaacdbcc_cf5e_11e8_ae24_9822efbf627alevel0_row5\" class=\"row_heading level0 row5\" >35 - 39</th> \n",
       "        <td id=\"T_eaacdbcc_cf5e_11e8_ae24_9822efbf627arow5_col0\" class=\"data row5 col0\" >41</td> \n",
       "        <td id=\"T_eaacdbcc_cf5e_11e8_ae24_9822efbf627arow5_col1\" class=\"data row5 col1\" >$3.60</td> \n",
       "        <td id=\"T_eaacdbcc_cf5e_11e8_ae24_9822efbf627arow5_col2\" class=\"data row5 col2\" >$147.67</td> \n",
       "        <td id=\"T_eaacdbcc_cf5e_11e8_ae24_9822efbf627arow5_col3\" class=\"data row5 col3\" >31</td> \n",
       "        <td id=\"T_eaacdbcc_cf5e_11e8_ae24_9822efbf627arow5_col4\" class=\"data row5 col4\" >$4.76</td> \n",
       "    </tr>    <tr> \n",
       "        <th id=\"T_eaacdbcc_cf5e_11e8_ae24_9822efbf627alevel0_row6\" class=\"row_heading level0 row6\" >40 +</th> \n",
       "        <td id=\"T_eaacdbcc_cf5e_11e8_ae24_9822efbf627arow6_col0\" class=\"data row6 col0\" >13</td> \n",
       "        <td id=\"T_eaacdbcc_cf5e_11e8_ae24_9822efbf627arow6_col1\" class=\"data row6 col1\" >$2.94</td> \n",
       "        <td id=\"T_eaacdbcc_cf5e_11e8_ae24_9822efbf627arow6_col2\" class=\"data row6 col2\" >$38.24</td> \n",
       "        <td id=\"T_eaacdbcc_cf5e_11e8_ae24_9822efbf627arow6_col3\" class=\"data row6 col3\" >12</td> \n",
       "        <td id=\"T_eaacdbcc_cf5e_11e8_ae24_9822efbf627arow6_col4\" class=\"data row6 col4\" >$3.19</td> \n",
       "    </tr>    <tr> \n",
       "        <th id=\"T_eaacdbcc_cf5e_11e8_ae24_9822efbf627alevel0_row7\" class=\"row_heading level0 row7\" >< 10</th> \n",
       "        <td id=\"T_eaacdbcc_cf5e_11e8_ae24_9822efbf627arow7_col0\" class=\"data row7 col0\" >23</td> \n",
       "        <td id=\"T_eaacdbcc_cf5e_11e8_ae24_9822efbf627arow7_col1\" class=\"data row7 col1\" >$3.35</td> \n",
       "        <td id=\"T_eaacdbcc_cf5e_11e8_ae24_9822efbf627arow7_col2\" class=\"data row7 col2\" >$77.13</td> \n",
       "        <td id=\"T_eaacdbcc_cf5e_11e8_ae24_9822efbf627arow7_col3\" class=\"data row7 col3\" >17</td> \n",
       "        <td id=\"T_eaacdbcc_cf5e_11e8_ae24_9822efbf627arow7_col4\" class=\"data row7 col4\" >$4.54</td> \n",
       "    </tr></tbody> \n",
       "</table> "
      ],
      "text/plain": [
       "<pandas.io.formats.style.Styler at 0x2cf10ceba58>"
      ]
     },
     "execution_count": 8,
     "metadata": {},
     "output_type": "execute_result"
    }
   ],
   "source": [
    "#Bin purchase data frame by age\n",
    "purchase_data.loc[(purchase_data['Age'] < 10), 'age_bin'] = \"< 10\"\n",
    "purchase_data.loc[(purchase_data['Age'] >= 10) & (purchase_data['Age'] <= 14), 'age_bin'] = \"10 - 14\"\n",
    "purchase_data.loc[(purchase_data['Age'] >= 15) & (purchase_data['Age'] <= 19), 'age_bin'] = \"15 - 19\"\n",
    "purchase_data.loc[(purchase_data['Age'] >= 20) & (purchase_data['Age'] <= 24), 'age_bin'] = \"20 - 24\"\n",
    "purchase_data.loc[(purchase_data['Age'] >= 25) & (purchase_data['Age'] <= 29), 'age_bin'] = \"25 - 29\"\n",
    "purchase_data.loc[(purchase_data['Age'] >= 30) & (purchase_data['Age'] <= 34), 'age_bin'] = \"30 - 34\"\n",
    "purchase_data.loc[(purchase_data['Age'] >= 35) & (purchase_data['Age'] <= 39), 'age_bin'] = \"35 - 39\"\n",
    "purchase_data.loc[(purchase_data['Age'] >= 40), 'age_bin'] = \"40 +\"\n",
    "\n",
    "#Basic calculation to determine # of Purchases by age bin\n",
    "pur_count_age = pd.DataFrame(purchase_data.groupby('age_bin')['SN'].count())\n",
    "\n",
    "#Basic calculation to determine Average Purchase Price\n",
    "avg_price_age = pd.DataFrame(purchase_data.groupby('age_bin')['Price'].mean())\n",
    "\n",
    "#Basic calculation to determine total purchase value by age bin\n",
    "tot_pur_age = pd.DataFrame(purchase_data.groupby('age_bin')['Price'].sum())\n",
    "\n",
    "#Drop duplicate items of SN, keeping the last, then counts # of unique players by age bin\n",
    "no_dup_age = pd.DataFrame(purchase_data.drop_duplicates('SN', keep = 'last').groupby('age_bin')['SN'].count())\n",
    "\n",
    "#Merges into one data frame\n",
    "merge_age = pd.merge(pur_count_age, avg_price_age, left_index = True, right_index = True).merge(tot_pur_age, left_index = True, right_index = True).merge(no_dup_age, left_index = True, right_index = True)\n",
    "\n",
    "#Rename columns\n",
    "merge_age.rename(columns = {\"SN_x\": \"# of Purchases\", \"Price_x\": \"Average Purchase Price\", \"Price_y\": \"Total Purchase Value\", \"SN_y\": \"# of Purchasers\", \"Normalized Totals\": \"Average Purchase Total per Person by Age Group\"}, inplace = True)\n",
    "\n",
    "#Calculate Average Purchase Total per Person by Age Group\n",
    "merge_age['Average Purchase Total per Person by Age Group'] = merge_age['Total Purchase Value']/merge_age['# of Purchasers']\n",
    "\n",
    "#Reset index to Age\n",
    "merge_age.index.rename(\"Age\", inplace = True)\n",
    "\n",
    "#Formats\n",
    "merge_age.style.format({'Average Purchase Price': '${:.2f}', 'Total Purchase Value': '${:.2f}', 'Average Purchase Total per Person by Age Group': '${:.2f}'})\n"
   ]
  },
  {
   "cell_type": "markdown",
   "metadata": {},
   "source": [
    "## Top Spenders"
   ]
  },
  {
   "cell_type": "markdown",
   "metadata": {},
   "source": [
    "* Run basic calculations to obtain the results in the table below\n",
    "\n",
    "\n",
    "* Create a summary data frame to hold the results\n",
    "\n",
    "\n",
    "* Sort the total purchase value column in descending order\n",
    "\n",
    "\n",
    "* Optional: give the displayed data cleaner formatting\n",
    "\n",
    "\n",
    "* Display a preview of the summary data frame\n",
    "\n"
   ]
  },
  {
   "cell_type": "code",
   "execution_count": 9,
   "metadata": {},
   "outputs": [
    {
     "data": {
      "text/html": [
       "<style  type=\"text/css\" >\n",
       "</style>  \n",
       "<table id=\"T_edd5868a_cf5e_11e8_969f_9822efbf627a\" > \n",
       "<thead>    <tr> \n",
       "        <th class=\"blank level0\" ></th> \n",
       "        <th class=\"col_heading level0 col0\" >Purchase Count</th> \n",
       "        <th class=\"col_heading level0 col1\" >Total Purchase Value</th> \n",
       "        <th class=\"col_heading level0 col2\" >Average Purchase Price</th> \n",
       "    </tr>    <tr> \n",
       "        <th class=\"index_name level0\" >SN</th> \n",
       "        <th class=\"blank\" ></th> \n",
       "        <th class=\"blank\" ></th> \n",
       "        <th class=\"blank\" ></th> \n",
       "    </tr></thead> \n",
       "<tbody>    <tr> \n",
       "        <th id=\"T_edd5868a_cf5e_11e8_969f_9822efbf627alevel0_row0\" class=\"row_heading level0 row0\" >Lisosia93</th> \n",
       "        <td id=\"T_edd5868a_cf5e_11e8_969f_9822efbf627arow0_col0\" class=\"data row0 col0\" >5</td> \n",
       "        <td id=\"T_edd5868a_cf5e_11e8_969f_9822efbf627arow0_col1\" class=\"data row0 col1\" >$18.96</td> \n",
       "        <td id=\"T_edd5868a_cf5e_11e8_969f_9822efbf627arow0_col2\" class=\"data row0 col2\" >$3.79</td> \n",
       "    </tr>    <tr> \n",
       "        <th id=\"T_edd5868a_cf5e_11e8_969f_9822efbf627alevel0_row1\" class=\"row_heading level0 row1\" >Idastidru52</th> \n",
       "        <td id=\"T_edd5868a_cf5e_11e8_969f_9822efbf627arow1_col0\" class=\"data row1 col0\" >4</td> \n",
       "        <td id=\"T_edd5868a_cf5e_11e8_969f_9822efbf627arow1_col1\" class=\"data row1 col1\" >$15.45</td> \n",
       "        <td id=\"T_edd5868a_cf5e_11e8_969f_9822efbf627arow1_col2\" class=\"data row1 col2\" >$3.86</td> \n",
       "    </tr>    <tr> \n",
       "        <th id=\"T_edd5868a_cf5e_11e8_969f_9822efbf627alevel0_row2\" class=\"row_heading level0 row2\" >Chamjask73</th> \n",
       "        <td id=\"T_edd5868a_cf5e_11e8_969f_9822efbf627arow2_col0\" class=\"data row2 col0\" >3</td> \n",
       "        <td id=\"T_edd5868a_cf5e_11e8_969f_9822efbf627arow2_col1\" class=\"data row2 col1\" >$13.83</td> \n",
       "        <td id=\"T_edd5868a_cf5e_11e8_969f_9822efbf627arow2_col2\" class=\"data row2 col2\" >$4.61</td> \n",
       "    </tr>    <tr> \n",
       "        <th id=\"T_edd5868a_cf5e_11e8_969f_9822efbf627alevel0_row3\" class=\"row_heading level0 row3\" >Iral74</th> \n",
       "        <td id=\"T_edd5868a_cf5e_11e8_969f_9822efbf627arow3_col0\" class=\"data row3 col0\" >4</td> \n",
       "        <td id=\"T_edd5868a_cf5e_11e8_969f_9822efbf627arow3_col1\" class=\"data row3 col1\" >$13.62</td> \n",
       "        <td id=\"T_edd5868a_cf5e_11e8_969f_9822efbf627arow3_col2\" class=\"data row3 col2\" >$3.40</td> \n",
       "    </tr>    <tr> \n",
       "        <th id=\"T_edd5868a_cf5e_11e8_969f_9822efbf627alevel0_row4\" class=\"row_heading level0 row4\" >Iskadarya95</th> \n",
       "        <td id=\"T_edd5868a_cf5e_11e8_969f_9822efbf627arow4_col0\" class=\"data row4 col0\" >3</td> \n",
       "        <td id=\"T_edd5868a_cf5e_11e8_969f_9822efbf627arow4_col1\" class=\"data row4 col1\" >$13.10</td> \n",
       "        <td id=\"T_edd5868a_cf5e_11e8_969f_9822efbf627arow4_col2\" class=\"data row4 col2\" >$4.37</td> \n",
       "    </tr></tbody> \n",
       "</table> "
      ],
      "text/plain": [
       "<pandas.io.formats.style.Styler at 0x2cf10ceb7f0>"
      ]
     },
     "execution_count": 9,
     "metadata": {},
     "output_type": "execute_result"
    }
   ],
   "source": [
    "# Identify the the top 5 spenders in the game by total purchase value, then list (in a table):\n",
    "#SN\n",
    "#Purchase Count\n",
    "#Average Purchase Price\n",
    "#Total Purchase Value\n",
    "\n",
    "num_purchase_by_SN = pd.DataFrame(purchase_data.groupby('SN')['Price'].count())\n",
    "avg_purchase_by_SN = pd.DataFrame(purchase_data.groupby('SN')['Price'].mean())\n",
    "purchase_amt_by_SN = pd.DataFrame(purchase_data.groupby('SN')['Price'].sum())\n",
    "\n",
    "#Merge \n",
    "merged_top5 = pd.merge(num_purchase_by_SN, purchase_amt_by_SN, left_index = True, right_index = True).merge(avg_purchase_by_SN, left_index=True, right_index=True)\n",
    "\n",
    "#Rename columns\n",
    "merged_top5.rename(columns = {'Price_x':'Purchase Count', 'Price_y': 'Total Purchase Value', 'Price':'Average Purchase Price'}, inplace = True)\n",
    "\n",
    "#Sort purchase value from high to low\n",
    "merged_top5.sort_values('Total Purchase Value', ascending = False, inplace=True)\n",
    "\n",
    "#Top 5 \n",
    "merged_top5 = merged_top5.head()\n",
    "\n",
    "#Formatting\n",
    "merged_top5.style.format({'Total Purchase Value': '${:.2f}', 'Average Purchase Price': '${:.2f}'})"
   ]
  },
  {
   "cell_type": "markdown",
   "metadata": {},
   "source": [
    "## Most Popular Items"
   ]
  },
  {
   "cell_type": "markdown",
   "metadata": {},
   "source": [
    "* Retrieve the Item ID, Item Name, and Item Price columns\n",
    "\n",
    "\n",
    "* Group by Item ID and Item Name. Perform calculations to obtain purchase count, item price, and total purchase value\n",
    "\n",
    "\n",
    "* Create a summary data frame to hold the results\n",
    "\n",
    "\n",
    "* Sort the purchase count column in descending order\n",
    "\n",
    "\n",
    "* Optional: give the displayed data cleaner formatting\n",
    "\n",
    "\n",
    "* Display a preview of the summary data frame\n",
    "\n"
   ]
  },
  {
   "cell_type": "code",
   "execution_count": 10,
   "metadata": {},
   "outputs": [
    {
     "name": "stderr",
     "output_type": "stream",
     "text": [
      "C:\\Users\\halcm\\Anaconda3\\lib\\site-packages\\ipykernel_launcher.py:12: FutureWarning: 'Item ID' is both an index level and a column label.\n",
      "Defaulting to column, but this will raise an ambiguity error in a future version\n",
      "  if sys.path[0] == '':\n"
     ]
    },
    {
     "data": {
      "text/html": [
       "<style  type=\"text/css\" >\n",
       "</style>  \n",
       "<table id=\"T_f1560c94_cf5e_11e8_9cec_9822efbf627a\" > \n",
       "<thead>    <tr> \n",
       "        <th class=\"blank level0\" ></th> \n",
       "        <th class=\"col_heading level0 col0\" >Item Name</th> \n",
       "        <th class=\"col_heading level0 col1\" >Purchase Count</th> \n",
       "        <th class=\"col_heading level0 col2\" >Item Price</th> \n",
       "        <th class=\"col_heading level0 col3\" >Total Purchase Value</th> \n",
       "    </tr>    <tr> \n",
       "        <th class=\"index_name level0\" >Item ID</th> \n",
       "        <th class=\"blank\" ></th> \n",
       "        <th class=\"blank\" ></th> \n",
       "        <th class=\"blank\" ></th> \n",
       "        <th class=\"blank\" ></th> \n",
       "    </tr></thead> \n",
       "<tbody>    <tr> \n",
       "        <th id=\"T_f1560c94_cf5e_11e8_9cec_9822efbf627alevel0_row0\" class=\"row_heading level0 row0\" >178</th> \n",
       "        <td id=\"T_f1560c94_cf5e_11e8_9cec_9822efbf627arow0_col0\" class=\"data row0 col0\" >Oathbreaker, Last Hope of the Breaking Storm</td> \n",
       "        <td id=\"T_f1560c94_cf5e_11e8_9cec_9822efbf627arow0_col1\" class=\"data row0 col1\" >12</td> \n",
       "        <td id=\"T_f1560c94_cf5e_11e8_9cec_9822efbf627arow0_col2\" class=\"data row0 col2\" >$4.23</td> \n",
       "        <td id=\"T_f1560c94_cf5e_11e8_9cec_9822efbf627arow0_col3\" class=\"data row0 col3\" >$50.76</td> \n",
       "    </tr>    <tr> \n",
       "        <th id=\"T_f1560c94_cf5e_11e8_9cec_9822efbf627alevel0_row1\" class=\"row_heading level0 row1\" >145</th> \n",
       "        <td id=\"T_f1560c94_cf5e_11e8_9cec_9822efbf627arow1_col0\" class=\"data row1 col0\" >Fiery Glass Crusader</td> \n",
       "        <td id=\"T_f1560c94_cf5e_11e8_9cec_9822efbf627arow1_col1\" class=\"data row1 col1\" >9</td> \n",
       "        <td id=\"T_f1560c94_cf5e_11e8_9cec_9822efbf627arow1_col2\" class=\"data row1 col2\" >$4.58</td> \n",
       "        <td id=\"T_f1560c94_cf5e_11e8_9cec_9822efbf627arow1_col3\" class=\"data row1 col3\" >$41.22</td> \n",
       "    </tr>    <tr> \n",
       "        <th id=\"T_f1560c94_cf5e_11e8_9cec_9822efbf627alevel0_row2\" class=\"row_heading level0 row2\" >108</th> \n",
       "        <td id=\"T_f1560c94_cf5e_11e8_9cec_9822efbf627arow2_col0\" class=\"data row2 col0\" >Extraction, Quickblade Of Trembling Hands</td> \n",
       "        <td id=\"T_f1560c94_cf5e_11e8_9cec_9822efbf627arow2_col1\" class=\"data row2 col1\" >9</td> \n",
       "        <td id=\"T_f1560c94_cf5e_11e8_9cec_9822efbf627arow2_col2\" class=\"data row2 col2\" >$3.53</td> \n",
       "        <td id=\"T_f1560c94_cf5e_11e8_9cec_9822efbf627arow2_col3\" class=\"data row2 col3\" >$31.77</td> \n",
       "    </tr>    <tr> \n",
       "        <th id=\"T_f1560c94_cf5e_11e8_9cec_9822efbf627alevel0_row3\" class=\"row_heading level0 row3\" >82</th> \n",
       "        <td id=\"T_f1560c94_cf5e_11e8_9cec_9822efbf627arow3_col0\" class=\"data row3 col0\" >Nirvana</td> \n",
       "        <td id=\"T_f1560c94_cf5e_11e8_9cec_9822efbf627arow3_col1\" class=\"data row3 col1\" >9</td> \n",
       "        <td id=\"T_f1560c94_cf5e_11e8_9cec_9822efbf627arow3_col2\" class=\"data row3 col2\" >$4.90</td> \n",
       "        <td id=\"T_f1560c94_cf5e_11e8_9cec_9822efbf627arow3_col3\" class=\"data row3 col3\" >$44.10</td> \n",
       "    </tr>    <tr> \n",
       "        <th id=\"T_f1560c94_cf5e_11e8_9cec_9822efbf627alevel0_row4\" class=\"row_heading level0 row4\" >19</th> \n",
       "        <td id=\"T_f1560c94_cf5e_11e8_9cec_9822efbf627arow4_col0\" class=\"data row4 col0\" >Pursuit, Cudgel of Necromancy</td> \n",
       "        <td id=\"T_f1560c94_cf5e_11e8_9cec_9822efbf627arow4_col1\" class=\"data row4 col1\" >8</td> \n",
       "        <td id=\"T_f1560c94_cf5e_11e8_9cec_9822efbf627arow4_col2\" class=\"data row4 col2\" >$1.02</td> \n",
       "        <td id=\"T_f1560c94_cf5e_11e8_9cec_9822efbf627arow4_col3\" class=\"data row4 col3\" >$8.16</td> \n",
       "    </tr>    <tr> \n",
       "        <th id=\"T_f1560c94_cf5e_11e8_9cec_9822efbf627alevel0_row5\" class=\"row_heading level0 row5\" >103</th> \n",
       "        <td id=\"T_f1560c94_cf5e_11e8_9cec_9822efbf627arow5_col0\" class=\"data row5 col0\" >Singed Scalpel</td> \n",
       "        <td id=\"T_f1560c94_cf5e_11e8_9cec_9822efbf627arow5_col1\" class=\"data row5 col1\" >8</td> \n",
       "        <td id=\"T_f1560c94_cf5e_11e8_9cec_9822efbf627arow5_col2\" class=\"data row5 col2\" >$4.35</td> \n",
       "        <td id=\"T_f1560c94_cf5e_11e8_9cec_9822efbf627arow5_col3\" class=\"data row5 col3\" >$34.80</td> \n",
       "    </tr></tbody> \n",
       "</table> "
      ],
      "text/plain": [
       "<pandas.io.formats.style.Styler at 0x2cf0c4c9b38>"
      ]
     },
     "execution_count": 10,
     "metadata": {},
     "output_type": "execute_result"
    }
   ],
   "source": [
    "#Identify the 5 most popular items by purchase count, then list (in a table):\n",
    "#Item ID\n",
    "#Item Name\n",
    "#Purchase Count\n",
    "#Item Price\n",
    "#Total Purchase Value\n",
    "\n",
    "#Gets a count of each item by grouping by Item ID and counting the number of each IDs occurances\n",
    "top5_items_ID = pd.DataFrame(purchase_data.groupby('Item ID')['Item ID'].count())\n",
    "\n",
    "#Sort total purchase count from high to low \n",
    "top5_items_ID.sort_values('Item ID', ascending = False, inplace = True)\n",
    "\n",
    "#Identify any ties\n",
    "top5_items_ID = top5_items_ID.iloc[0:6][:]\n",
    "\n",
    "#Find the total purchase value of each item\n",
    "top5_items_total = pd.DataFrame(purchase_data.groupby('Item ID')['Price'].sum())\n",
    "\n",
    "#Merge purchase count and total purcahse value \n",
    "top5_items = pd.merge(top5_items_ID, top5_items_total, left_index = True, right_index = True)\n",
    "\n",
    "#Drop duplicate items from purchase data df\n",
    "no_dup_items = purchase_data.drop_duplicates(['Item ID'], keep = 'last')\n",
    "\n",
    "#Merge \n",
    "top5_merge_ID = pd.merge(top5_items, no_dup_items, left_index = True, right_on = 'Item ID')\n",
    "\n",
    "#Keep the required columns\n",
    "top5_merge_ID = top5_merge_ID[['Item ID', 'Item Name', 'Item ID_x', 'Price_y', 'Price_x']]\n",
    "\n",
    "#Reset index to Item ID\n",
    "top5_merge_ID.set_index(['Item ID'], inplace = True)\n",
    "\n",
    "#Rename columns\n",
    "top5_merge_ID.rename(columns =  {'Item ID_x': 'Purchase Count', 'Price_y': 'Item Price', 'Price_x': 'Total Purchase Value'}, inplace=True)\n",
    "\n",
    "#Formatting\n",
    "top5_merge_ID.style.format({'Item Price': '${:.2f}', 'Total Purchase Value': '${:.2f}'})"
   ]
  },
  {
   "cell_type": "markdown",
   "metadata": {},
   "source": [
    "## Most Profitable Items"
   ]
  },
  {
   "cell_type": "markdown",
   "metadata": {},
   "source": [
    "* Sort the above table by total purchase value in descending order\n",
    "\n",
    "\n",
    "* Optional: give the displayed data cleaner formatting\n",
    "\n",
    "\n",
    "* Display a preview of the data frame\n",
    "\n"
   ]
  },
  {
   "cell_type": "code",
   "execution_count": 11,
   "metadata": {
    "scrolled": true
   },
   "outputs": [
    {
     "data": {
      "text/html": [
       "<style  type=\"text/css\" >\n",
       "</style>  \n",
       "<table id=\"T_f4dfe968_cf5e_11e8_9fcf_9822efbf627a\" > \n",
       "<thead>    <tr> \n",
       "        <th class=\"blank level0\" ></th> \n",
       "        <th class=\"col_heading level0 col0\" >Item Name</th> \n",
       "        <th class=\"col_heading level0 col1\" >Purchase Count</th> \n",
       "        <th class=\"col_heading level0 col2\" >Item Price</th> \n",
       "        <th class=\"col_heading level0 col3\" >Total Purchase Value</th> \n",
       "    </tr>    <tr> \n",
       "        <th class=\"index_name level0\" >Item ID</th> \n",
       "        <th class=\"blank\" ></th> \n",
       "        <th class=\"blank\" ></th> \n",
       "        <th class=\"blank\" ></th> \n",
       "        <th class=\"blank\" ></th> \n",
       "    </tr></thead> \n",
       "<tbody>    <tr> \n",
       "        <th id=\"T_f4dfe968_cf5e_11e8_9fcf_9822efbf627alevel0_row0\" class=\"row_heading level0 row0\" >178</th> \n",
       "        <td id=\"T_f4dfe968_cf5e_11e8_9fcf_9822efbf627arow0_col0\" class=\"data row0 col0\" >Oathbreaker, Last Hope of the Breaking Storm</td> \n",
       "        <td id=\"T_f4dfe968_cf5e_11e8_9fcf_9822efbf627arow0_col1\" class=\"data row0 col1\" >12</td> \n",
       "        <td id=\"T_f4dfe968_cf5e_11e8_9fcf_9822efbf627arow0_col2\" class=\"data row0 col2\" >$4.23</td> \n",
       "        <td id=\"T_f4dfe968_cf5e_11e8_9fcf_9822efbf627arow0_col3\" class=\"data row0 col3\" >$50.76</td> \n",
       "    </tr>    <tr> \n",
       "        <th id=\"T_f4dfe968_cf5e_11e8_9fcf_9822efbf627alevel0_row1\" class=\"row_heading level0 row1\" >82</th> \n",
       "        <td id=\"T_f4dfe968_cf5e_11e8_9fcf_9822efbf627arow1_col0\" class=\"data row1 col0\" >Nirvana</td> \n",
       "        <td id=\"T_f4dfe968_cf5e_11e8_9fcf_9822efbf627arow1_col1\" class=\"data row1 col1\" >9</td> \n",
       "        <td id=\"T_f4dfe968_cf5e_11e8_9fcf_9822efbf627arow1_col2\" class=\"data row1 col2\" >$4.90</td> \n",
       "        <td id=\"T_f4dfe968_cf5e_11e8_9fcf_9822efbf627arow1_col3\" class=\"data row1 col3\" >$44.10</td> \n",
       "    </tr>    <tr> \n",
       "        <th id=\"T_f4dfe968_cf5e_11e8_9fcf_9822efbf627alevel0_row2\" class=\"row_heading level0 row2\" >145</th> \n",
       "        <td id=\"T_f4dfe968_cf5e_11e8_9fcf_9822efbf627arow2_col0\" class=\"data row2 col0\" >Fiery Glass Crusader</td> \n",
       "        <td id=\"T_f4dfe968_cf5e_11e8_9fcf_9822efbf627arow2_col1\" class=\"data row2 col1\" >9</td> \n",
       "        <td id=\"T_f4dfe968_cf5e_11e8_9fcf_9822efbf627arow2_col2\" class=\"data row2 col2\" >$4.58</td> \n",
       "        <td id=\"T_f4dfe968_cf5e_11e8_9fcf_9822efbf627arow2_col3\" class=\"data row2 col3\" >$41.22</td> \n",
       "    </tr>    <tr> \n",
       "        <th id=\"T_f4dfe968_cf5e_11e8_9fcf_9822efbf627alevel0_row3\" class=\"row_heading level0 row3\" >92</th> \n",
       "        <td id=\"T_f4dfe968_cf5e_11e8_9fcf_9822efbf627arow3_col0\" class=\"data row3 col0\" >Final Critic</td> \n",
       "        <td id=\"T_f4dfe968_cf5e_11e8_9fcf_9822efbf627arow3_col1\" class=\"data row3 col1\" >8</td> \n",
       "        <td id=\"T_f4dfe968_cf5e_11e8_9fcf_9822efbf627arow3_col2\" class=\"data row3 col2\" >$4.88</td> \n",
       "        <td id=\"T_f4dfe968_cf5e_11e8_9fcf_9822efbf627arow3_col3\" class=\"data row3 col3\" >$39.04</td> \n",
       "    </tr>    <tr> \n",
       "        <th id=\"T_f4dfe968_cf5e_11e8_9fcf_9822efbf627alevel0_row4\" class=\"row_heading level0 row4\" >103</th> \n",
       "        <td id=\"T_f4dfe968_cf5e_11e8_9fcf_9822efbf627arow4_col0\" class=\"data row4 col0\" >Singed Scalpel</td> \n",
       "        <td id=\"T_f4dfe968_cf5e_11e8_9fcf_9822efbf627arow4_col1\" class=\"data row4 col1\" >8</td> \n",
       "        <td id=\"T_f4dfe968_cf5e_11e8_9fcf_9822efbf627arow4_col2\" class=\"data row4 col2\" >$4.35</td> \n",
       "        <td id=\"T_f4dfe968_cf5e_11e8_9fcf_9822efbf627arow4_col3\" class=\"data row4 col3\" >$34.80</td> \n",
       "    </tr></tbody> \n",
       "</table> "
      ],
      "text/plain": [
       "<pandas.io.formats.style.Styler at 0x2cf10424f98>"
      ]
     },
     "execution_count": 11,
     "metadata": {},
     "output_type": "execute_result"
    }
   ],
   "source": [
    "#Identify the 5 most profitable items by total purchase value, then list (in a table):\n",
    "#Item ID\n",
    "#Item Name\n",
    "#Purchase Count\n",
    "#Item Price\n",
    "#Total Purchase Value\n",
    "\n",
    "# find total purchase value \n",
    "top5_profit = pd.DataFrame(purchase_data.groupby('Item ID')['Price'].sum())\n",
    "\n",
    "#Sort high to low\n",
    "top5_profit.sort_values('Price', ascending = False, inplace = True)\n",
    "\n",
    "#Top 5\n",
    "top5_profit = top5_profit.iloc[0:5][:]\n",
    "\n",
    "#Determine item purchase count\n",
    "pur_count_profit = pd.DataFrame(purchase_data.groupby('Item ID')['Item ID'].count())\n",
    "\n",
    "#Merge\n",
    "top5_profit = pd.merge(top5_profit, pur_count_profit, left_index = True, right_index = True, how = 'left')\n",
    "top5_merge_profit = pd.merge(top5_profit, no_dup_items, left_index = True, right_on = 'Item ID', how = 'left')\n",
    "top5_merge_profit = top5_merge_profit[['Item ID', 'Item Name', 'Item ID_x', 'Price_y','Price_x']]\n",
    "\n",
    "#Reset Index to Item ID\n",
    "top5_merge_profit.set_index(['Item ID'], inplace=True)\n",
    "\n",
    "#Rename columns\n",
    "top5_merge_profit.rename(columns = {'Item ID_x': 'Purchase Count', 'Price_y': 'Item Price', 'Price_x': 'Total Purchase Value'}, inplace = True)\n",
    "\n",
    "#Formatting\n",
    "top5_merge_profit.style.format({'Item Price': '${:.2f}', 'Total Purchase Value': '${:.2f}'})"
   ]
  },
  {
   "cell_type": "code",
   "execution_count": null,
   "metadata": {},
   "outputs": [],
   "source": []
  }
 ],
 "metadata": {
  "anaconda-cloud": {},
  "kernel_info": {
   "name": "python3"
  },
  "kernelspec": {
   "display_name": "Python 3",
   "language": "python",
   "name": "python3"
  },
  "language_info": {
   "codemirror_mode": {
    "name": "ipython",
    "version": 3
   },
   "file_extension": ".py",
   "mimetype": "text/x-python",
   "name": "python",
   "nbconvert_exporter": "python",
   "pygments_lexer": "ipython3",
   "version": "3.6.5"
  },
  "nteract": {
   "version": "0.2.0"
  }
 },
 "nbformat": 4,
 "nbformat_minor": 2
}
